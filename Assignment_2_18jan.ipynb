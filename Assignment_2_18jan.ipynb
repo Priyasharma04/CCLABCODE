{
  "cells": [
    {
      "cell_type": "code",
      "execution_count": null,
      "metadata": {
        "id": "G72XHuaPct3g"
      },
      "outputs": [],
      "source": []
    },
    {
      "cell_type": "markdown",
      "metadata": {
        "id": "inNQpskrd3mW"
      },
      "source": [
        "Assignment **2**"
      ]
    },
    {
      "cell_type": "markdown",
      "metadata": {
        "id": "HcqXErXHd8MG"
      },
      "source": [
        "**1** Create a List L that is defined as= [10, 20, 30, 40, 50, 60, 70, 80].\n",
        "    i. WAP to add 200 and 300 to L.\n",
        "    ii. WAP to remove 10 and 30 from L.\n",
        "    iii. WAP to sort L in ascending order.\n",
        "    iv. WAP to sort L in descending order."
      ]
    },
    {
      "cell_type": "code",
      "execution_count": 1,
      "metadata": {
        "colab": {
          "base_uri": "https://localhost:8080/"
        },
        "id": "jO59M89pd6lz",
        "outputId": "ee243bd6-4b2d-4ccb-edc2-5351acf6281f"
      },
      "outputs": [
        {
          "name": "stdout",
          "output_type": "stream",
          "text": [
            "after 1 [10, 20, 30, 40, 50, 60, 70, 80, 200, 300]\n",
            "after 2 [20, 40, 50, 60, 70, 80, 200, 300]\n",
            "after 3 [20, 40, 50, 60, 70, 80, 200, 300]\n",
            "after 4  [300, 200, 80, 70, 60, 50, 40, 20]\n"
          ]
        }
      ],
      "source": [
        "L=[10,20,30,40,50,60,70,80]\n",
        "L.append(200)\n",
        "L.append(300)\n",
        "print(\"after 1\",L)\n",
        "L.remove(10)\n",
        "L.remove(30)\n",
        "print(\"after 2\",L)\n",
        "L.sort()\n",
        "print(\"after 3\",L)\n",
        "L.sort(reverse=True)\n",
        "print(\"after 4 \",L)\n"
      ]
    },
    {
      "cell_type": "markdown",
      "metadata": {
        "id": "eNNd5aXrfRcr"
      },
      "source": [
        "**2** Create a tuple of marks scored as scores = (45, 89.5, 76, 45.4, 89, 92, 58, 45) and\n",
        "perform the following operations using tuple functions:\n",
        "    i. Identify the highest score and its index in the tuple.\n",
        "    ii. Find the lowest score and count how many times it appears.\n",
        "    iii. Reverse the tuple and return it as a list.\n",
        "    iv. Check if a specific score ‘76’ (input by the user) is present in the tuple and\n",
        "        print its first occurrence index, or a message saying it’s not present."
      ]
    },
    {
      "cell_type": "code",
      "execution_count": 15,
      "metadata": {
        "colab": {
          "base_uri": "https://localhost:8080/"
        },
        "id": "4wq1IaeFfZPi",
        "outputId": "2e681005-5c53-497c-9366-ae5592545f22"
      },
      "outputs": [
        {
          "name": "stdout",
          "output_type": "stream",
          "text": [
            "92\n",
            "5\n",
            "45\n",
            "2\n",
            "[45, 58, 92, 89, 45.4, 76, 89.5, 45]\n",
            "enter the number12\n",
            "Not present\n"
          ]
        }
      ],
      "source": [
        "t=(45, 89.5, 76, 45.4, 89, 92, 58, 45)\n",
        "\n",
        "print(max(t))\n",
        "print(t.index(max(t)))\n",
        "print(min(t))\n",
        "print(t.count(min(t)))\n",
        "lst=list(t[::-1])\n",
        "print(lst)\n",
        "n=int(input(\"enter the number\"))\n",
        "if(t.count(n)):\n",
        "  print( t.index(n))\n",
        "else:\n",
        "  print(\"Not present\")\n",
        "\n"
      ]
    },
    {
      "cell_type": "markdown",
      "metadata": {
        "id": "N1jVJsyzfUvx"
      },
      "source": [
        "**3** WAP to create a list of 100 random numbers between 100 and 900. Count and print\n",
        "the:\n",
        "    i. All odd numbers\n",
        "    ii. All even numbers\n",
        "    iii. All prime numbers"
      ]
    },
    {
      "cell_type": "code",
      "execution_count": 24,
      "metadata": {
        "colab": {
          "base_uri": "https://localhost:8080/"
        },
        "id": "bwloDur1p8z2",
        "outputId": "1eb3e2e4-a9fb-41a6-a480-a0ffac5daa24"
      },
      "outputs": [
        {
          "name": "stdout",
          "output_type": "stream",
          "text": [
            "219 127 883 623 619 703 133 181 699 433 283 465 107 841 423 731 893 867 739 319 873 145 867 401 615 855 437 497 145 699 463 513 407 889 821 673 665 497 689 787 337 819 723 307 315 315 103 553 565 859 209 \n",
            "\n",
            "count of odd no =  51\n",
            "244 560 106 370 522 624 436 482 874 842 736 460 384 410 816 300 362 502 656 576 330 726 752 574 320 528 450 714 180 800 532 896 310 588 104 698 594 418 828 778 360 372 440 774 364 262 194 232 722 \n",
            "\n",
            "count of even no =  49\n",
            "Prime numbers: [127, 883, 619, 181, 433, 283, 107, 739, 401, 463, 821, 673, 787, 337, 307, 103, 859]\n",
            "17\n"
          ]
        }
      ],
      "source": [
        "import random\n",
        "random_nums=[random.randint(101,899) for i in range(100)]\n",
        "#print(random_nums)\n",
        "cnt=0\n",
        "for i in random_nums:\n",
        "  if(i%2==1):\n",
        "    cnt+=1;\n",
        "    print(i,end=\" \")\n",
        "print(\"\\n\")\n",
        "print(\"count of odd no = \",cnt)\n",
        "cnte=0\n",
        "for i in random_nums:\n",
        "  if(i%2==0):\n",
        "    cnte+=1;\n",
        "    print(i,end=\" \")\n",
        "print(\"\\n\")\n",
        "print(\"count of even no = \",cnte)\n",
        "def is_prime(n):\n",
        "  if(n<=1):\n",
        "    return False\n",
        "  for i in range(2,n//2,1):\n",
        "    if(n%i==0):\n",
        "      return False\n",
        "  return True\n",
        "prime_numbers = [num for num in random_nums if is_prime(num)]\n",
        "print(\"Prime numbers:\", prime_numbers)\n",
        "print(len(prime_numbers))\n"
      ]
    },
    {
      "cell_type": "markdown",
      "metadata": {
        "id": "hYv6lGhsyUUi"
      },
      "source": [
        "**4** Consider the following two sets, A and B, represenƟng scores of two teams in mulƟple\n",
        "matches. A = {34, 56, 78, 90} and B = {78, 45, 90, 23}\n",
        "WAP to perform the following operaƟons using set funcƟons:\n",
        "    i. Find the unique scores achieved by both teams (union of sets).\n",
        "    ii. IdenƟfy the scores that are common to both teams (intersecƟon of sets).\n",
        "    iii. Find the scores that are exclusive to each team (symmetric difference).\n",
        "    iv. Check if the scores of team A are a subset of team B, and if team B's scores are\n",
        "        a superset of team A.\n",
        "    v. Remove a specific score X (input by the user) from set A if it exists. If not, print\n",
        "       a message saying it is not present."
      ]
    },
    {
      "cell_type": "code",
      "execution_count": 31,
      "metadata": {
        "colab": {
          "base_uri": "https://localhost:8080/"
        },
        "id": "tMMlqlgvyV0X",
        "outputId": "2c65a7dd-2147-4b1e-b7d8-19380e4f6179"
      },
      "outputs": [
        {
          "name": "stdout",
          "output_type": "stream",
          "text": [
            "{34, 45, 78, 23, 56, 90}\n",
            "{90, 78}\n",
            "{56, 34}\n",
            "{45, 23}\n",
            "{34, 45, 23, 56}\n",
            "A is not subset of B\n",
            "B is not superset of A\n",
            "enter the number23\n",
            "23  is not present in A\n"
          ]
        }
      ],
      "source": [
        "A = {34, 56, 78, 90}\n",
        "B = {78, 45, 90, 23}\n",
        "print(A.union(B))\n",
        "print(A.intersection(B))\n",
        "print(A.difference(B))\n",
        "print(B.difference(A))\n",
        "print(A.symmetric_difference(B))\n",
        "if(A.issubset(B)):\n",
        "  print(\"A is subset of B\")\n",
        "else:\n",
        "  print(\"A is not subset of B\")\n",
        "if(B.issuperset(A)):\n",
        "  print(\"B is superset of A\")\n",
        "else:\n",
        "  print(\"B is not superset of A\")\n",
        "x=int(input(\"enter the number\"))\n",
        "if(x in A):\n",
        "  A.remove(x)\n",
        "  print(\"x is removed from A\")\n",
        "  print(A)\n",
        "else:\n",
        "  print(x ,\" is not present in A\")"
      ]
    },
    {
      "cell_type": "markdown",
      "metadata": {
        "id": "D2TiLPeAz5gj"
      },
      "source": [
        "**5** Write a program to rename a key city to a locaƟon in the following dicƟonary."
      ]
    },
    {
      "cell_type": "code",
      "execution_count": 32,
      "metadata": {
        "colab": {
          "base_uri": "https://localhost:8080/"
        },
        "id": "Gxy6q-A0z7gb",
        "outputId": "b74d85a1-d9a2-47b2-97d9-d03049ae5385"
      },
      "outputs": [
        {
          "name": "stdout",
          "output_type": "stream",
          "text": [
            "{'name': 'Kelly', 'age': 25, 'salary': 8000, 'location': 'New york'}\n"
          ]
        }
      ],
      "source": [
        "sample_dict={\"name\":\"Kelly\",\n",
        "            \"age\":25,\n",
        "            \"salary\":8000,\n",
        "            \"city\":\"New york\"}\n",
        "sample_dict[\"location\"]=sample_dict.pop(\"city\")\n",
        "print(sample_dict)\n",
        "\n"
      ]
    },
    {
      "cell_type": "code",
      "execution_count": 1,
      "metadata": {},
      "outputs": [
        {
          "ename": "ModuleNotFoundError",
          "evalue": "No module named 'numpy'",
          "output_type": "error",
          "traceback": [
            "\u001b[1;31m---------------------------------------------------------------------------\u001b[0m",
            "\u001b[1;31mModuleNotFoundError\u001b[0m                       Traceback (most recent call last)",
            "Cell \u001b[1;32mIn[1], line 1\u001b[0m\n\u001b[1;32m----> 1\u001b[0m \u001b[38;5;28;01mimport\u001b[39;00m\u001b[38;5;250m \u001b[39m\u001b[38;5;21;01mnumpy\u001b[39;00m\u001b[38;5;250m \u001b[39m\u001b[38;5;28;01mas\u001b[39;00m\u001b[38;5;250m \u001b[39m\u001b[38;5;21;01mnp\u001b[39;00m\n\u001b[0;32m      2\u001b[0m arr1\u001b[38;5;241m=\u001b[39mnp\u001b[38;5;241m.\u001b[39marray([\u001b[38;5;241m1\u001b[39m,\u001b[38;5;241m2\u001b[39m,\u001b[38;5;241m3\u001b[39m])\n\u001b[0;32m      3\u001b[0m \u001b[38;5;28mprint\u001b[39m(arr1\u001b[38;5;241m.\u001b[39mshape)\n",
            "\u001b[1;31mModuleNotFoundError\u001b[0m: No module named 'numpy'"
          ]
        }
      ],
      "source": [
        "import numpy as np\n",
        "arr1=np.array([1,2,3])\n",
        "print(arr1.shape)"
      ]
    }
  ],
  "metadata": {
    "colab": {
      "provenance": []
    },
    "kernelspec": {
      "display_name": "backconnect",
      "language": "python",
      "name": "python3"
    },
    "language_info": {
      "codemirror_mode": {
        "name": "ipython",
        "version": 3
      },
      "file_extension": ".py",
      "mimetype": "text/x-python",
      "name": "python",
      "nbconvert_exporter": "python",
      "pygments_lexer": "ipython3",
      "version": "3.12.4"
    }
  },
  "nbformat": 4,
  "nbformat_minor": 0
}
